{
 "cells": [
  {
   "cell_type": "code",
   "execution_count": 1,
   "metadata": {},
   "outputs": [],
   "source": [
    "import numpy as np"
   ]
  },
  {
   "cell_type": "code",
   "execution_count": 2,
   "metadata": {},
   "outputs": [
    {
     "name": "stdout",
     "output_type": "stream",
     "text": [
      "/Volumes/Macintosh HD/Users/Sid/Udacity/003_FlyingCars/007_Projects/FCND-Estimation-CPP/src\n",
      "/Volumes/Macintosh HD/Users/Sid/Udacity/003_FlyingCars/007_Projects/FCND-Estimation-CPP/src\n"
     ]
    }
   ],
   "source": [
    "import os\n",
    "\n",
    "path = os.getcwd()\n",
    "\n",
    "print(os.getcwd())"
   ]
  },
  {
   "cell_type": "code",
   "execution_count": 3,
   "metadata": {},
   "outputs": [],
   "source": [
    "gps_x = np.loadtxt('../config/06_sensor_log/Graph1.txt',delimiter=',',dtype='Float64',skiprows=1)[:,1]\n",
    "acc_x = np.loadtxt('../config/06_sensor_log/Graph2.txt',delimiter=',',dtype='Float64',skiprows=1)[:,1]"
   ]
  },
  {
   "cell_type": "code",
   "execution_count": 4,
   "metadata": {},
   "outputs": [
    {
     "name": "stdout",
     "output_type": "stream",
     "text": [
      "GPS X Std: 0.7238769646678072\n",
      "Accelerometer X Std: 0.509982055133538\n"
     ]
    }
   ],
   "source": [
    "gps_x_std = np.std(gps_x)\n",
    "print(f'GPS X Std: {gps_x_std}')\n",
    "acc_x_std = np.std(acc_x)\n",
    "print(f'Accelerometer X Std: {acc_x_std}')"
   ]
  },
  {
   "cell_type": "code",
   "execution_count": null,
   "metadata": {},
   "outputs": [],
   "source": []
  }
 ],
 "metadata": {
  "kernelspec": {
   "display_name": "Python 3",
   "language": "python",
   "name": "python3"
  },
  "language_info": {
   "codemirror_mode": {
    "name": "ipython",
    "version": 3
   },
   "file_extension": ".py",
   "mimetype": "text/x-python",
   "name": "python",
   "nbconvert_exporter": "python",
   "pygments_lexer": "ipython3",
   "version": "3.6.3"
  }
 },
 "nbformat": 4,
 "nbformat_minor": 4
}
